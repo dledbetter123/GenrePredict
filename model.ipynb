{
 "cells": [
  {
   "cell_type": "code",
   "execution_count": 33,
   "metadata": {},
   "outputs": [
    {
     "data": {
      "text/plain": [
       "30522"
      ]
     },
     "execution_count": 33,
     "metadata": {},
     "output_type": "execute_result"
    }
   ],
   "source": [
    "from transformers import BertTokenizer\n",
    "tokenizer = BertTokenizer.from_pretrained('bert-base-uncased')\n",
    "vocab_size = len(tokenizer)\n",
    "vocab_size"
   ]
  },
  {
   "cell_type": "markdown",
   "metadata": {},
   "source": [
    "# Deprecated"
   ]
  },
  {
   "cell_type": "code",
   "execution_count": 4,
   "metadata": {},
   "outputs": [
    {
     "data": {
      "text/plain": [
       "'\\n\\nimport os\\n\\nsong_dir = \\'Songs\\'\\n\\nsongs_data = []\\n\\nfor filename in os.listdir(song_dir):\\n    if filename.endswith(\".txt\"):\\n\\n        with open(os.path.join(song_dir, filename), \\'r\\', encoding=\\'utf-8\\') as file:\\n            lyrics = file.read()\\n\\n        genre = filename.split(\\'_\\')[0]  # Example: assuming filenames like \\'Rock_song1.txt\\'\\n        songs_data.append({\"lyrics\": lyrics, \"genre\": genre})\\n\\nunique_genres = set(song[\"genre\"] for song in songs_data)\\ngenre_to_id = {genre: idx for idx, genre in enumerate(unique_genres)}\\nprint(unique_genres)\\nlabeled_songs = [(song[\"lyrics\"], genre_to_id[song[\"genre\"]]) for song in songs_data]\\n\\nlabeled_songs\\n\\ninput_ids = torch.cat(input_ids, dim=0)\\nattention_masks = torch.cat(attention_masks, dim=0)\\nlabels = torch.tensor(labels)\\n'"
      ]
     },
     "execution_count": 4,
     "metadata": {},
     "output_type": "execute_result"
    }
   ],
   "source": [
    "'''\n",
    "\n",
    "import os\n",
    "\n",
    "song_dir = 'Songs'\n",
    "\n",
    "songs_data = []\n",
    "\n",
    "for filename in os.listdir(song_dir):\n",
    "    if filename.endswith(\".txt\"):\n",
    "\n",
    "        with open(os.path.join(song_dir, filename), 'r', encoding='utf-8') as file:\n",
    "            lyrics = file.read()\n",
    "\n",
    "        genre = filename.split('_')[0]  # Example: assuming filenames like 'Rock_song1.txt'\n",
    "        songs_data.append({\"lyrics\": lyrics, \"genre\": genre})\n",
    "\n",
    "unique_genres = set(song[\"genre\"] for song in songs_data)\n",
    "genre_to_id = {genre: idx for idx, genre in enumerate(unique_genres)}\n",
    "print(unique_genres)\n",
    "labeled_songs = [(song[\"lyrics\"], genre_to_id[song[\"genre\"]]) for song in songs_data]\n",
    "\n",
    "labeled_songs\n",
    "\n",
    "input_ids = torch.cat(input_ids, dim=0)\n",
    "attention_masks = torch.cat(attention_masks, dim=0)\n",
    "labels = torch.tensor(labels)\n",
    "'''"
   ]
  },
  {
   "cell_type": "code",
   "execution_count": 34,
   "metadata": {},
   "outputs": [],
   "source": [
    "import pandas as pd\n",
    "\n",
    "file_path = 'sampled_songs.csv'\n",
    "df = pd.read_csv(file_path)\n",
    "\n",
    "# bert's not as good with other languages\n",
    "df = df[df['language'] == 'en']\n",
    "\n",
    "genres = df['tag'].tolist()\n",
    "lyrics = df['lyrics'].tolist()\n",
    "\n",
    "unique_genres = set(genres)\n",
    "genre_to_id = {genre: idx for idx, genre in enumerate(unique_genres)}\n"
   ]
  },
  {
   "cell_type": "code",
   "execution_count": 51,
   "metadata": {},
   "outputs": [],
   "source": [
    "tokenized_data = [tokenizer.encode_plus(\n",
    "    lyric,\n",
    "    add_special_tokens=True,\n",
    "    max_length=300,\n",
    "    truncation=True,\n",
    "    padding='max_length',\n",
    "    return_attention_mask=True,\n",
    "    return_tensors='pt'\n",
    ") for lyric in lyrics]"
   ]
  },
  {
   "cell_type": "code",
   "execution_count": 52,
   "metadata": {},
   "outputs": [
    {
     "name": "stdout",
     "output_type": "stream",
     "text": [
      "Token IDs: tensor([  101,  1031,  7893,  1015,  1033,  2017,  8966,  2115,  4253,  1998,\n",
      "         2035,  2115,  4933,  1005, 18681,  2045,  2001,  2498,  2187,  1997,\n",
      "         2149,  3984,  2054,  2057,  2018,  7110,  1005,  1056,  2438,  2008,\n",
      "         4949,  3875,  2017,  2006,  1996,  2835,  2003,  5559,  2157,  2073,\n",
      "         1045, 10587,  2022,  4299,  1045,  2071,  2644,  2115,  2975,  2033,\n",
      "         1031,  7165,  1033,  2021,  2053,  3043,  2129,  2521,  2017,  2175,\n",
      "         2026,  2293,  2003,  2844,  1010,  2180,  1005,  1056,  4558,  1037,\n",
      "         2907,  2074,  3426,  2017,  1005,  2128,  2908,  2180,  1005,  1056,\n",
      "         2812,  2057,  1005,  2310,  5419,  1045,  2064,  2145,  2293,  2017,\n",
      "         2013,  2182,  1031,  7893,  1016,  1033,  2009,  1005,  1055,  2115,\n",
      "         3247,  1010,  2009,  1005,  1055,  2025,  3067,  2017,  1005,  2128,\n",
      "         1996,  2028,  2040,  3881,  2023,  2240,  1045,  2113,  1045,  2064,\n",
      "         1005,  1056,  2689,  2115,  2568,  2017,  2453,  3612,  2039,  1999,\n",
      "         4203, 10768,  4203,  8096,  2030,  1999,  1048,  1012,  1037,  2408,\n",
      "         1996,  4153,  1010,  1998,  2008,  1005,  1055,  3100,  1031,  7165,\n",
      "         1033,  2074,  2113,  2008,  1010,  2053,  3043,  2129,  2521,  2017,\n",
      "         2175,  2026,  2293,  2003,  2844,  1010,  2180,  1005,  1056,  4558,\n",
      "         1037,  2907,  2074,  3426,  2017,  1005,  2128,  2908,  2180,  1005,\n",
      "         1056,  2812,  2057,  1005,  2310,  5419,  1045,  2064,  2145,  2293,\n",
      "         2017,  2013,  2182,  1031,  2958,  1033,  2065,  2017,  2681,  2085,\n",
      "         1010,  2017,  1005,  2222,  2074,  4536,  2046,  1996,  3103,  2061,\n",
      "         1010,  2339,  2123,  1005,  1056,  2017,  3524,  1005, 18681,  2851,\n",
      "         3310,  1029,  1031,  7165,  1033,  2074,  2113,  2008,  1010,  2053,\n",
      "         3043,  2129,  2521,  2017,  2175,  2026,  2293,  2003,  2844,  1010,\n",
      "         2180,  1005,  1056,  4558,  1037,  2907,  2074,  3426,  2017,  1005,\n",
      "         2128,  2908,  2180,  1005,  1056,  2812,  2057,  1005,  2310,  5419,\n",
      "         1045,  2064,  2145,  2293,  2017,  1045,  2064,  2145,  2293,  2017,\n",
      "         2013,  2182,   102,     0,     0,     0,     0,     0,     0,     0,\n",
      "            0,     0,     0,     0,     0,     0,     0,     0,     0,     0,\n",
      "            0,     0,     0,     0,     0,     0,     0,     0,     0,     0])\n",
      "Attention Mask: tensor([1, 1, 1, 1, 1, 1, 1, 1, 1, 1, 1, 1, 1, 1, 1, 1, 1, 1, 1, 1, 1, 1, 1, 1,\n",
      "        1, 1, 1, 1, 1, 1, 1, 1, 1, 1, 1, 1, 1, 1, 1, 1, 1, 1, 1, 1, 1, 1, 1, 1,\n",
      "        1, 1, 1, 1, 1, 1, 1, 1, 1, 1, 1, 1, 1, 1, 1, 1, 1, 1, 1, 1, 1, 1, 1, 1,\n",
      "        1, 1, 1, 1, 1, 1, 1, 1, 1, 1, 1, 1, 1, 1, 1, 1, 1, 1, 1, 1, 1, 1, 1, 1,\n",
      "        1, 1, 1, 1, 1, 1, 1, 1, 1, 1, 1, 1, 1, 1, 1, 1, 1, 1, 1, 1, 1, 1, 1, 1,\n",
      "        1, 1, 1, 1, 1, 1, 1, 1, 1, 1, 1, 1, 1, 1, 1, 1, 1, 1, 1, 1, 1, 1, 1, 1,\n",
      "        1, 1, 1, 1, 1, 1, 1, 1, 1, 1, 1, 1, 1, 1, 1, 1, 1, 1, 1, 1, 1, 1, 1, 1,\n",
      "        1, 1, 1, 1, 1, 1, 1, 1, 1, 1, 1, 1, 1, 1, 1, 1, 1, 1, 1, 1, 1, 1, 1, 1,\n",
      "        1, 1, 1, 1, 1, 1, 1, 1, 1, 1, 1, 1, 1, 1, 1, 1, 1, 1, 1, 1, 1, 1, 1, 1,\n",
      "        1, 1, 1, 1, 1, 1, 1, 1, 1, 1, 1, 1, 1, 1, 1, 1, 1, 1, 1, 1, 1, 1, 1, 1,\n",
      "        1, 1, 1, 1, 1, 1, 1, 1, 1, 1, 1, 1, 1, 1, 1, 1, 1, 1, 1, 1, 1, 1, 1, 1,\n",
      "        1, 1, 1, 1, 1, 1, 1, 1, 1, 0, 0, 0, 0, 0, 0, 0, 0, 0, 0, 0, 0, 0, 0, 0,\n",
      "        0, 0, 0, 0, 0, 0, 0, 0, 0, 0, 0, 0])\n",
      "Label: tensor(2)\n"
     ]
    }
   ],
   "source": [
    "import torch\n",
    "\n",
    "input_ids = torch.cat([item['input_ids'] for item in tokenized_data], dim=0)\n",
    "attention_masks = torch.cat([item['attention_mask'] for item in tokenized_data], dim=0)\n",
    "labels = torch.tensor([genre_to_id[genre] for genre in genres])\n",
    "\n",
    "# print(\"Lyrics:\", labeled_songs[0][0])\n",
    "print(\"Token IDs:\", input_ids[0])\n",
    "print(\"Attention Mask:\", attention_masks[0])\n",
    "print(\"Label:\", labels[0])"
   ]
  },
  {
   "cell_type": "code",
   "execution_count": 65,
   "metadata": {},
   "outputs": [
    {
     "name": "stdout",
     "output_type": "stream",
     "text": [
      "6527\n"
     ]
    }
   ],
   "source": [
    "print(len(labels))"
   ]
  },
  {
   "cell_type": "code",
   "execution_count": 53,
   "metadata": {},
   "outputs": [],
   "source": [
    "import torch.nn as nn\n",
    "import math\n",
    "\n",
    "class PositionalEncoding(nn.Module):\n",
    "    def __init__(self, d_model, max_len=512):\n",
    "        super(PositionalEncoding, self).__init__()\n",
    "        self.encoding = torch.zeros(max_len, d_model)\n",
    "        position = torch.arange(0, max_len).unsqueeze(1)\n",
    "        div_term = torch.exp(torch.arange(0, d_model, 2) * -(math.log(10000.0) / d_model))\n",
    "        self.encoding[:, 0::2] = torch.sin(position * div_term)\n",
    "        self.encoding[:, 1::2] = torch.cos(position * div_term)\n",
    "        self.encoding = self.encoding.unsqueeze(0)\n",
    "\n",
    "    def forward(self, x):\n",
    "        encoding = self.encoding.to(x.device)\n",
    "        return x + encoding[:, :x.size(1)].detach()\n",
    "\n",
    "def scaled_dot_product_attention(query, key, value, mask=None):\n",
    "    matmul_qk = torch.matmul(query, key.transpose(-2, -1))\n",
    "    d_k = query.size(-1)\n",
    "    scaled_attention_logits = matmul_qk / math.sqrt(d_k)\n",
    "\n",
    "    # print(\"Shape of query: \", query.shape)\n",
    "    # print(\"Shape of key: \", key.shape)\n",
    "    # print(\"Shape of value: \", value.shape)\n",
    "    # print(\"Shape of matmul_qk (attention logits): \", matmul_qk.shape)\n",
    "\n",
    "    # matmul_qk is shaped [6, 8, 512, 512], where the 8 is the 8 attention heads\n",
    "\n",
    "    # mask is shaped [6, 512] from preprocessing\n",
    "\n",
    "    # need to add two filler dimensions \n",
    "    mask = mask.unsqueeze(1).unsqueeze(1)\n",
    "\n",
    "    # if mask is not None:\n",
    "    #     print(\"Shape of mask: \", mask.shape)\n",
    "    if mask is not None:\n",
    "        scaled_attention_logits += (mask * -1e9)\n",
    "    attention_weights = nn.Softmax(dim=-1)(scaled_attention_logits)\n",
    "    output = torch.matmul(attention_weights, value)\n",
    "    return output, attention_weights\n",
    "\n",
    "class MultiHeadAttention(nn.Module):\n",
    "    def __init__(self, d_model, num_heads):\n",
    "        super(MultiHeadAttention, self).__init__()\n",
    "        self.num_heads = num_heads\n",
    "        self.d_model = d_model\n",
    "        self.depth = d_model // num_heads\n",
    "        self.wq = nn.Linear(d_model, d_model)\n",
    "        self.wk = nn.Linear(d_model, d_model)\n",
    "        self.wv = nn.Linear(d_model, d_model)\n",
    "        self.dense = nn.Linear(d_model, d_model)\n",
    "\n",
    "    def split_into_heads(self, x, batch_size):\n",
    "        x = x.view(batch_size, -1, self.num_heads, self.depth)\n",
    "        return x.permute(0, 2, 1, 3)\n",
    "\n",
    "    def forward(self, v, k, q, mask):\n",
    "        batch_size = q.size(0)\n",
    "        q = self.split_into_heads(self.wq(q), batch_size)\n",
    "        k = self.split_into_heads(self.wk(k), batch_size)\n",
    "        v = self.split_into_heads(self.wv(v), batch_size)\n",
    "        attention, attention_weights = scaled_dot_product_attention(q, k, v, mask)\n",
    "        attention = attention.permute(0, 2, 1, 3).contiguous()\n",
    "        concat_attention = attention.view(batch_size, -1, self.d_model)\n",
    "        output = self.dense(concat_attention)\n",
    "        return output, attention_weights\n",
    "\n",
    "class PointwiseFeedforwardNetwork(nn.Module):\n",
    "    def __init__(self, d_model, d_fforward):\n",
    "        super(PointwiseFeedforwardNetwork, self).__init__()\n",
    "        self.linear1 = nn.Linear(d_model, d_fforward)\n",
    "        self.relu = nn.ReLU()\n",
    "        self.linear2 = nn.Linear(d_fforward, d_model)\n",
    "\n",
    "    def forward(self, x):\n",
    "        return self.linear2(self.relu(self.linear1(x)))\n",
    "\n",
    "class TransformerBlock(nn.Module):\n",
    "    def __init__(self, d_model, num_heads, d_fforward, dropout=0.1):\n",
    "        super(TransformerBlock, self).__init__()\n",
    "        self.attention = MultiHeadAttention(d_model, num_heads)\n",
    "        self.norm1 = nn.LayerNorm(d_model)\n",
    "        self.ffn = PointwiseFeedforwardNetwork(d_model, d_fforward)\n",
    "        self.norm2 = nn.LayerNorm(d_model)\n",
    "        self.dropout = nn.Dropout(dropout)\n",
    "\n",
    "    def forward(self, x, mask):\n",
    "        attn_output, _ = self.attention(x, x, x, mask)\n",
    "        x = self.norm1(x + attn_output)\n",
    "        ffn_output = self.ffn(x)\n",
    "        x = self.norm2(x + ffn_output)\n",
    "        return x\n",
    "\n",
    "class TransformerModel(nn.Module):\n",
    "    def __init__(self, vocab_size, d_model, num_heads, d_fforward, num_classes, max_len=512):\n",
    "        super(TransformerModel, self).__init__()\n",
    "        self.embeddings = nn.Embedding(vocab_size, d_model)\n",
    "        self.pos_encoder = PositionalEncoding(d_model, max_len)\n",
    "        self.transformer_block = TransformerBlock(d_model, num_heads, d_fforward)\n",
    "        self.classifier = nn.Linear(d_model, num_classes)\n",
    "\n",
    "    def forward(self, input_ids, attention_mask):\n",
    "        embeddings = self.embeddings(input_ids)\n",
    "        embeddings = self.pos_encoder(embeddings)\n",
    "        transformer_output = self.transformer_block(embeddings, attention_mask)\n",
    "        output = self.classifier(transformer_output[:, 0])\n",
    "        return nn.functional.softmax(output, dim=1)"
   ]
  },
  {
   "cell_type": "code",
   "execution_count": 54,
   "metadata": {},
   "outputs": [],
   "source": [
    "# # Make sure the model is in evaluation mode\n",
    "# model.eval()\n",
    "\n",
    "# with torch.no_grad():  # Turn off gradients for prediction\n",
    "#     # Forward pass, get logit predictions\n",
    "#     output = model(input_ids[0], attention_masks[0])\n",
    "\n",
    "# # The output is the softmax output giving probabilities for each genre\n",
    "# print(output)"
   ]
  },
  {
   "cell_type": "markdown",
   "metadata": {},
   "source": [
    "# Model Testing"
   ]
  },
  {
   "cell_type": "code",
   "execution_count": 66,
   "metadata": {},
   "outputs": [],
   "source": [
    "from torch.utils.data import TensorDataset, DataLoader, RandomSampler, SequentialSampler\n",
    "\n",
    "dataset = TensorDataset(input_ids, attention_masks, labels)\n",
    "\n",
    "batch_size = 32\n",
    "\n",
    "train_sampler = RandomSampler(dataset)\n",
    "train_dataloader = DataLoader(dataset, sampler=train_sampler, batch_size=batch_size)\n"
   ]
  },
  {
   "cell_type": "code",
   "execution_count": 67,
   "metadata": {},
   "outputs": [
    {
     "name": "stdout",
     "output_type": "stream",
     "text": [
      "Using device: mps\n"
     ]
    }
   ],
   "source": [
    "d_model = 512\n",
    "num_heads = 8\n",
    "d_fforward = 1024\n",
    "num_classes = len(unique_genres)  # [Pop, Rock, Rap, Country, R&B]\n",
    "model = TransformerModel(vocab_size, d_model, num_heads, d_fforward, num_classes)\n",
    "\n",
    "device = torch.device(\"mps\" if torch.backends.mps.is_available() else \"cpu\")\n",
    "print(\"Using device:\", device)\n",
    "\n",
    "# Move your model to the device\n",
    "model.to(device)\n",
    "\n",
    "# When processing data, you also need to move your tensors to the MPS device\n",
    "input_ids = input_ids.to(device)\n",
    "attention_masks = attention_masks.to(device)"
   ]
  },
  {
   "cell_type": "code",
   "execution_count": 68,
   "metadata": {},
   "outputs": [
    {
     "name": "stderr",
     "output_type": "stream",
     "text": [
      "Epoch 1/18: 100%|██████████| 204/204 [00:11<00:00, 17.06it/s, accuracy=0.452, loss=1.59]\n"
     ]
    },
    {
     "name": "stdout",
     "output_type": "stream",
     "text": [
      "Epoch 1 finished - Loss: 1.5549, Accuracy: 0.4878\n"
     ]
    },
    {
     "name": "stderr",
     "output_type": "stream",
     "text": [
      "Epoch 2/18: 100%|██████████| 204/204 [00:11<00:00, 17.47it/s, accuracy=0.419, loss=1.62]\n"
     ]
    },
    {
     "name": "stdout",
     "output_type": "stream",
     "text": [
      "Epoch 2 finished - Loss: 1.5495, Accuracy: 0.4923\n"
     ]
    },
    {
     "name": "stderr",
     "output_type": "stream",
     "text": [
      "Epoch 3/18: 100%|██████████| 204/204 [00:11<00:00, 17.51it/s, accuracy=0.581, loss=1.46]\n"
     ]
    },
    {
     "name": "stdout",
     "output_type": "stream",
     "text": [
      "Epoch 3 finished - Loss: 1.5174, Accuracy: 0.5218\n"
     ]
    },
    {
     "name": "stderr",
     "output_type": "stream",
     "text": [
      "Epoch 4/18: 100%|██████████| 204/204 [00:11<00:00, 17.53it/s, accuracy=0.484, loss=1.57]\n"
     ]
    },
    {
     "name": "stdout",
     "output_type": "stream",
     "text": [
      "Epoch 4 finished - Loss: 1.4869, Accuracy: 0.5554\n"
     ]
    },
    {
     "name": "stderr",
     "output_type": "stream",
     "text": [
      "Epoch 5/18: 100%|██████████| 204/204 [00:11<00:00, 17.53it/s, accuracy=0.645, loss=1.4] \n"
     ]
    },
    {
     "name": "stdout",
     "output_type": "stream",
     "text": [
      "Epoch 5 finished - Loss: 1.4802, Accuracy: 0.5628\n"
     ]
    },
    {
     "name": "stderr",
     "output_type": "stream",
     "text": [
      "Epoch 6/18: 100%|██████████| 204/204 [00:11<00:00, 17.53it/s, accuracy=0.548, loss=1.5] \n"
     ]
    },
    {
     "name": "stdout",
     "output_type": "stream",
     "text": [
      "Epoch 6 finished - Loss: 1.4787, Accuracy: 0.5638\n"
     ]
    },
    {
     "name": "stderr",
     "output_type": "stream",
     "text": [
      "Epoch 7/18: 100%|██████████| 204/204 [00:11<00:00, 17.53it/s, accuracy=0.419, loss=1.62]\n"
     ]
    },
    {
     "name": "stdout",
     "output_type": "stream",
     "text": [
      "Epoch 7 finished - Loss: 1.4793, Accuracy: 0.5632\n"
     ]
    },
    {
     "name": "stderr",
     "output_type": "stream",
     "text": [
      "Epoch 8/18: 100%|██████████| 204/204 [00:11<00:00, 17.54it/s, accuracy=0.645, loss=1.39]\n"
     ]
    },
    {
     "name": "stdout",
     "output_type": "stream",
     "text": [
      "Epoch 8 finished - Loss: 1.4773, Accuracy: 0.5655\n"
     ]
    },
    {
     "name": "stderr",
     "output_type": "stream",
     "text": [
      "Epoch 9/18: 100%|██████████| 204/204 [00:11<00:00, 17.48it/s, accuracy=0.548, loss=1.5] \n"
     ]
    },
    {
     "name": "stdout",
     "output_type": "stream",
     "text": [
      "Epoch 9 finished - Loss: 1.4735, Accuracy: 0.5683\n"
     ]
    },
    {
     "name": "stderr",
     "output_type": "stream",
     "text": [
      "Epoch 10/18: 100%|██████████| 204/204 [00:11<00:00, 17.64it/s, accuracy=0.677, loss=1.37]\n"
     ]
    },
    {
     "name": "stdout",
     "output_type": "stream",
     "text": [
      "Epoch 10 finished - Loss: 1.4627, Accuracy: 0.5802\n"
     ]
    },
    {
     "name": "stderr",
     "output_type": "stream",
     "text": [
      "Epoch 11/18: 100%|██████████| 204/204 [00:11<00:00, 17.49it/s, accuracy=0.581, loss=1.46]\n"
     ]
    },
    {
     "name": "stdout",
     "output_type": "stream",
     "text": [
      "Epoch 11 finished - Loss: 1.4590, Accuracy: 0.5836\n"
     ]
    },
    {
     "name": "stderr",
     "output_type": "stream",
     "text": [
      "Epoch 12/18: 100%|██████████| 204/204 [00:11<00:00, 17.77it/s, accuracy=0.548, loss=1.48]\n"
     ]
    },
    {
     "name": "stdout",
     "output_type": "stream",
     "text": [
      "Epoch 12 finished - Loss: 1.4540, Accuracy: 0.5877\n"
     ]
    },
    {
     "name": "stderr",
     "output_type": "stream",
     "text": [
      "Epoch 13/18: 100%|██████████| 204/204 [00:11<00:00, 17.60it/s, accuracy=0.71, loss=1.33] \n"
     ]
    },
    {
     "name": "stdout",
     "output_type": "stream",
     "text": [
      "Epoch 13 finished - Loss: 1.4468, Accuracy: 0.5963\n"
     ]
    },
    {
     "name": "stderr",
     "output_type": "stream",
     "text": [
      "Epoch 14/18: 100%|██████████| 204/204 [00:11<00:00, 17.51it/s, accuracy=0.71, loss=1.34] \n"
     ]
    },
    {
     "name": "stdout",
     "output_type": "stream",
     "text": [
      "Epoch 14 finished - Loss: 1.4484, Accuracy: 0.5945\n"
     ]
    },
    {
     "name": "stderr",
     "output_type": "stream",
     "text": [
      "Epoch 15/18: 100%|██████████| 204/204 [00:11<00:00, 17.79it/s, accuracy=0.645, loss=1.4] \n"
     ]
    },
    {
     "name": "stdout",
     "output_type": "stream",
     "text": [
      "Epoch 15 finished - Loss: 1.4428, Accuracy: 0.5997\n"
     ]
    },
    {
     "name": "stderr",
     "output_type": "stream",
     "text": [
      "Epoch 16/18: 100%|██████████| 204/204 [00:11<00:00, 17.93it/s, accuracy=0.677, loss=1.37]\n"
     ]
    },
    {
     "name": "stdout",
     "output_type": "stream",
     "text": [
      "Epoch 16 finished - Loss: 1.4420, Accuracy: 0.6007\n"
     ]
    },
    {
     "name": "stderr",
     "output_type": "stream",
     "text": [
      "Epoch 17/18: 100%|██████████| 204/204 [00:11<00:00, 18.05it/s, accuracy=0.516, loss=1.53]\n"
     ]
    },
    {
     "name": "stdout",
     "output_type": "stream",
     "text": [
      "Epoch 17 finished - Loss: 1.4419, Accuracy: 0.6001\n"
     ]
    },
    {
     "name": "stderr",
     "output_type": "stream",
     "text": [
      "Epoch 18/18: 100%|██████████| 204/204 [00:11<00:00, 18.12it/s, accuracy=0.548, loss=1.51]"
     ]
    },
    {
     "name": "stdout",
     "output_type": "stream",
     "text": [
      "Epoch 18 finished - Loss: 1.4424, Accuracy: 0.6007\n"
     ]
    },
    {
     "name": "stderr",
     "output_type": "stream",
     "text": [
      "\n"
     ]
    }
   ],
   "source": [
    "from tqdm import tqdm\n",
    "import torch.optim as optim\n",
    "\n",
    "criterion = nn.CrossEntropyLoss()\n",
    "\n",
    "optimizer = optim.Adam(model.parameters(), lr=0.0001)\n",
    "\n",
    "criterion.to(device)\n",
    "\n",
    "def calculate_accuracy(predictions, labels):\n",
    "    preds = torch.argmax(predictions, dim=1).flatten()\n",
    "    correct_preds = (preds == labels).cpu().sum().item()\n",
    "    total_preds = labels.size(0)\n",
    "    accuracy = correct_preds / total_preds\n",
    "    return accuracy\n",
    "\n",
    "num_epochs = 18\n",
    "train_loss_history = []\n",
    "train_accuracy_history = []\n",
    "\n",
    "model.train()\n",
    "for epoch in range(num_epochs):\n",
    "    loop = tqdm(train_dataloader, leave=True, total=len(train_dataloader))\n",
    "\n",
    "    total_loss = 0\n",
    "    total_accuracy = 0\n",
    "\n",
    "    for batch in loop:\n",
    "\n",
    "        b_input_ids, b_input_mask, b_labels = [b.to(device) for b in batch]\n",
    "        \n",
    "        optimizer.zero_grad()\n",
    "\n",
    "        outputs = model(b_input_ids, b_input_mask)\n",
    "\n",
    "        loss = criterion(outputs, b_labels)\n",
    "        accuracy = calculate_accuracy(outputs, b_labels)\n",
    "\n",
    "        loss.backward()\n",
    "        optimizer.step()\n",
    "\n",
    "        total_loss += loss.item()\n",
    "        total_accuracy += accuracy\n",
    "\n",
    "        loop.set_description(f'Epoch {epoch + 1}/{num_epochs}')\n",
    "        loop.set_postfix(loss=loss.item(), accuracy=accuracy)\n",
    "\n",
    "    avg_train_loss = total_loss / len(train_dataloader)\n",
    "    avg_train_accuracy = total_accuracy / len(train_dataloader)\n",
    "    train_loss_history.append(avg_train_loss)\n",
    "    train_accuracy_history.append(avg_train_accuracy)\n",
    "    print(f'Epoch {epoch + 1} finished - Loss: {avg_train_loss:.4f}, Accuracy: {avg_train_accuracy:.4f}')"
   ]
  },
  {
   "cell_type": "code",
   "execution_count": 71,
   "metadata": {},
   "outputs": [
    {
     "data": {
      "image/png": "[encoded data removed]",
      "text/plain": [
       "<Figure size 1200x500 with 2 Axes>"
      ]
     },
     "metadata": {},
     "output_type": "display_data"
    }
   ],
   "source": [
    "import matplotlib.pyplot as plt\n",
    "\n",
    "epochs = range(1, num_epochs + 1)\n",
    "plt.figure(figsize=(12, 5))\n",
    "\n",
    "plt.subplot(1, 2, 1)\n",
    "plt.plot(epochs, train_loss_history, 'bo-', label='Training Loss')\n",
    "plt.title('Training Loss')\n",
    "plt.xlabel('Epochs')\n",
    "plt.ylabel('Loss')\n",
    "plt.legend()\n",
    "\n",
    "plt.subplot(1, 2, 2)\n",
    "plt.plot(epochs, train_accuracy_history, 'bo-', label='Training Accuracy')\n",
    "plt.title('Training Accuracy')\n",
    "plt.xlabel('Epochs')\n",
    "plt.ylabel('Accuracy')\n",
    "plt.legend()\n",
    "\n",
    "plt.tight_layout()\n",
    "plt.show()"
   ]
  },
  {
   "cell_type": "code",
   "execution_count": 70,
   "metadata": {},
   "outputs": [
    {
     "ename": "NameError",
     "evalue": "name 'labeled_songs' is not defined",
     "output_type": "error",
     "traceback": [
      "\u001b[0;31m---------------------------------------------------------------------------\u001b[0m",
      "\u001b[0;31mNameError\u001b[0m                                 Traceback (most recent call last)",
      "Cell \u001b[0;32mIn [70], line 10\u001b[0m\n\u001b[1;32m      7\u001b[0m     output \u001b[38;5;241m=\u001b[39m model(input_ids[\u001b[38;5;241m1\u001b[39m]\u001b[38;5;241m.\u001b[39munsqueeze(\u001b[38;5;241m0\u001b[39m), attention_masks[\u001b[38;5;241m1\u001b[39m]\u001b[38;5;241m.\u001b[39munsqueeze(\u001b[38;5;241m0\u001b[39m))\n\u001b[1;32m      9\u001b[0m \u001b[38;5;66;03m# The output is the softmax output giving probabilities for each genre\u001b[39;00m\n\u001b[0;32m---> 10\u001b[0m \u001b[38;5;28mprint\u001b[39m(\u001b[38;5;124m\"\u001b[39m\u001b[38;5;124mLyrics:\u001b[39m\u001b[38;5;124m\"\u001b[39m, \u001b[43mlabeled_songs\u001b[49m[\u001b[38;5;241m1\u001b[39m][\u001b[38;5;241m0\u001b[39m])\n\u001b[1;32m     11\u001b[0m \u001b[38;5;28mprint\u001b[39m(output)\n\u001b[1;32m     12\u001b[0m \u001b[38;5;28mprint\u001b[39m(unique_genres)\n",
      "\u001b[0;31mNameError\u001b[0m: name 'labeled_songs' is not defined"
     ]
    }
   ],
   "source": [
    "# Make sure the model is in evaluation mode\n",
    "model.eval()\n",
    "\n",
    "with torch.no_grad():  # Turn off gradients for prediction\n",
    "    # Forward pass, get logit predictions\n",
    "    # Add a batch dimension using unsqueeze(0)\n",
    "    output = model(input_ids[1].unsqueeze(0), attention_masks[1].unsqueeze(0))\n",
    "\n",
    "# The output is the softmax output giving probabilities for each genre\n",
    "print(\"Lyrics:\", labeled_songs[1][0])\n",
    "print(output)\n",
    "print(unique_genres)\n",
    "print(labels[1])"
   ]
  }
 ],
 "metadata": {
  "kernelspec": {
   "display_name": "Python 3",
   "language": "python",
   "name": "python3"
  },
  "language_info": {
   "codemirror_mode": {
    "name": "ipython",
    "version": 3
   },
   "file_extension": ".py",
   "mimetype": "text/x-python",
   "name": "python",
   "nbconvert_exporter": "python",
   "pygments_lexer": "ipython3",
   "version": "3.9.15"
  }
 },
 "nbformat": 4,
 "nbformat_minor": 2
}
